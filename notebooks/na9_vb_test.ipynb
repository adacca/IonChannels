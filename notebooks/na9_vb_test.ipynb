{
 "cells": [
  {
   "cell_type": "code",
   "execution_count": null,
   "id": "d07b6158-5428-4b34-b04b-cb5557cdb126",
   "metadata": {},
   "outputs": [],
   "source": [
    "using DrWatson\n",
    "@quickactivate\n",
    "\n",
    "using IonChannelTools, Plots\n",
    "\n",
    "include(srcdir(\"NaVB.jl\"))"
   ]
  },
  {
   "cell_type": "code",
   "execution_count": null,
   "id": "2c5e379b-8fdc-445d-926a-59c17d240565",
   "metadata": {},
   "outputs": [],
   "source": [
    "dt = 1e-3 #time step in ms"
   ]
  },
  {
   "cell_type": "code",
   "execution_count": null,
   "id": "8cb92404-c619-4c2d-8d97-c3e1da3bd1e1",
   "metadata": {},
   "outputs": [],
   "source": [
    "tL45 = IonChannelTools.pulse([0 20],dt,[0,0,-45,0])\n",
    "d1 = IonChannelTools.evolvedist(Gmatrix,tL45[:,2],dt,IonChannelTools.steadystate(Gmatrix,-70)) #-70 mV is \"resting potential\"\n",
    "ss = Array{Float64}(undef,0,9)\n",
    "for i in 1:size(tL45,1)\n",
    "    ss = [ss; IonChannelTools.steadystate(Gmatrix,tL45[i,2])]\n",
    "end #all steady states\n",
    "dss45 = IonChannelTools.fxnprotplot(d1-ss,tL45[:,2],tL45[:,1]) #difference of dist from steady state\n",
    "dss45 = title!(\"distance from ss -45mV\")"
   ]
  },
  {
   "cell_type": "code",
   "execution_count": null,
   "id": "305e9ea7-24d1-4235-a34f-2b01465d8632",
   "metadata": {},
   "outputs": [],
   "source": [
    "Q45 = IonChannelTools.Qex(d1,Gmatrix,tL45[:,2],dt)\n",
    "q45 = IonChannelTools.fxnprotplot(Q45,tL45[:,2],tL45[:,1])\n",
    "q45 = Plots.title!(\"Qex for -45mV\")"
   ]
  },
  {
   "cell_type": "code",
   "execution_count": null,
   "id": "7a8089d1-b47f-4c1e-b588-a454d57ce021",
   "metadata": {},
   "outputs": [],
   "source": [
    "S1 = []\n",
    "for t in 1:length(tL45[:,1])\n",
    "    append!(S1, IonChannelTools.S_tot(Gmatrix(-45),d1[t,:]))\n",
    "end"
   ]
  },
  {
   "cell_type": "code",
   "execution_count": null,
   "id": "35d7cf30-3b48-4bdf-906f-de3f9cf1a7a5",
   "metadata": {},
   "outputs": [],
   "source": [
    "tL30 = IonChannelTools.pulse([0 20],dt,[0,0,-30,0])\n",
    "d2 = IonChannelTools.evolvedist(Gmatrix,tL30[:,2],dt,IonChannelTools.steadystate(Gmatrix,-70)) #-70 mV is \"resting potential\"\n",
    "\n",
    "tL15 = IonChannelTools.pulse([0 20],dt,[0,0,15,0])\n",
    "d3 = IonChannelTools.evolvedist(Gmatrix,tL15[:,2],dt,IonChannelTools.steadystate(Gmatrix,-70)) #-70 mV is \"resting potential\"\n",
    "\n",
    "\n",
    "S2 = []\n",
    "for t in 1:length(tL30[:,1])\n",
    "    append!(S2, IonChannelTools.S_tot(Gmatrix(-30),d2[t,:]))\n",
    "end\n",
    "\n",
    "S3 = []\n",
    "for t in 1:length(tL15[:,1])\n",
    "    append!(S3, IonChannelTools.S_tot(Gmatrix(15),d3[t,:]))\n",
    "end"
   ]
  },
  {
   "cell_type": "code",
   "execution_count": null,
   "id": "bd06d89d-4928-4b3b-9128-8e63e9adff95",
   "metadata": {},
   "outputs": [],
   "source": [
    "S = plot(tL45[:,1],[S1 S2 S3],title=\"S_tot for -45mV, -30mV, 15mV\",ylimits=[0,5])"
   ]
  },
  {
   "cell_type": "code",
   "execution_count": null,
   "id": "84fa8965-eec2-45e7-a715-94d81bf23752",
   "metadata": {
    "scrolled": true
   },
   "outputs": [],
   "source": [
    "tL45l = IonChannelTools.pulse([0 200],dt,[0,0,-45,0])\n",
    "d1l = IonChannelTools.evolvedist(Gmatrix,tL45l[:,2],dt,IonChannelTools.steadystate(Gmatrix,-70)) #-70 mV is \"resting potential\"\n",
    "ssl = Array{Float64}(undef,0,9)\n",
    "for i in 1:size(tL45l,1)\n",
    "    ssl = [ssl; IonChannelTools.steadystate(Gmatrix,tL45l[i,2])]\n",
    "end #all steady states"
   ]
  },
  {
   "cell_type": "code",
   "execution_count": null,
   "id": "a367f495-c2e2-4a6f-82cf-a3c3748daf88",
   "metadata": {},
   "outputs": [],
   "source": [
    "dss45_long = IonChannelTools.fxnprotplot((d1l-ssl)[1:1000:end,:],tL45l[1:1000:end,2],tL45l[1:1000:end,1]) #difference of dist from steady state\n",
    "dss45_long = Plots.title!(\"distance from steady state -45mV, 200ms long\")"
   ]
  },
  {
   "cell_type": "markdown",
   "id": "2be314b3-6d1a-4524-90d3-528ab02ce25c",
   "metadata": {},
   "source": [
    "$$H[X] = -\\sum_{x \\in X} x\\log{x}$$"
   ]
  },
  {
   "cell_type": "code",
   "execution_count": null,
   "id": "4197d9e5-888e-4f4f-8200-0b7799657347",
   "metadata": {},
   "outputs": [],
   "source": [
    "H_t = []\n",
    "for i in 1:length(d1[:,1])\n",
    "    append!(H_t, IonChannelTools.H(d1[i,:]))\n",
    "end\n",
    "H45 = plot(tL45[:,1],H_t)\n",
    "\n",
    "ssH = IonChannelTools.H(ss[1,:])\n",
    "maxH = IonChannelTools.H(fill(1/9,(1,9)))\n",
    "H45 = hline!([ssH maxH])\n",
    "H45 = title!(\"H[X], H[steady state], H[uniform dist]\")"
   ]
  },
  {
   "cell_type": "code",
   "execution_count": null,
   "id": "d52295a1-c52a-453b-a6f1-41b1552cbfba",
   "metadata": {},
   "outputs": [],
   "source": [
    "H_tl = []\n",
    "for i in 1:length(d1l[:,1])\n",
    "    append!(H_tl, IonChannelTools.H(d1l[i,:]))\n",
    "end\n",
    "H45l = plot(tL45l[:,1],H_tl)\n",
    "\n",
    "H45l = hline!([ssH maxH])\n",
    "H45l = title!(\"longer H[X], H[steady state], H[uniform dist]\")"
   ]
  },
  {
   "cell_type": "code",
   "execution_count": null,
   "id": "a5037c8f-ad71-4a69-890f-b826c0bcb2be",
   "metadata": {},
   "outputs": [],
   "source": [
    "Q45 = IonChannelTools.Qex(d1,Gmatrix,tL45[:,2],dt)\n",
    "dq45 = IonChannelTools.ddt(Q45,dt)\n",
    "QH = dq45 + H_t\n",
    "\n",
    "QH45 = plot(tL45[:,1],QH,title=\"dQex + H[X], and dS_tot\",label=\"dQ+H\",ylimits=[-1,5])\n",
    "QH45 = plot!(tL45[:,1],dq45,label=\"dQ\",linestyle=:dash)\n",
    "QH45 = plot!(tL45[:,1],H_t,label=\"H\",linestyle=:dash)\n",
    "QH45 = plot!(tL45[:,1],S1,label=\"dS_tot\")"
   ]
  },
  {
   "cell_type": "markdown",
   "id": "6140ac45-c30c-49ae-b7cd-a1c15492fa37",
   "metadata": {},
   "source": [
    "makes sense, H[X] doesn't decay so the sum can't decay, wouldn't match S_tot behavior"
   ]
  },
  {
   "cell_type": "code",
   "execution_count": null,
   "id": "fe8dfea0-2c5c-4f1f-a481-aa5efc26afb3",
   "metadata": {},
   "outputs": [],
   "source": [
    "#trying with time derivative of H\n",
    "\n",
    "QH2 = dq45 + IonChannelTools.ddt(H_t,dt)\n",
    "QH452 = plot(tL45[:,1],QH2,title=\"dQex + dH[X], and dS_tot\",label=\"dQ+H\",ylimits=[-1,2])\n",
    "QH452 = plot!(tL45[:,1],dq45,label=\"dQ\",linestyle=:dash)\n",
    "QH452 = plot!(tL45[:,1],IonChannelTools.ddt(H_t,dt),label=\"dH\",linestyle=:dash)\n",
    "QH452 = plot!(tL45[:,1],S1,label=\"dS_tot\")"
   ]
  },
  {
   "cell_type": "markdown",
   "id": "0852ad5b-1081-43a1-888b-6c1464072773",
   "metadata": {},
   "source": [
    "**trying a dynamic protocol again**"
   ]
  },
  {
   "cell_type": "code",
   "execution_count": null,
   "id": "835c2fd9-8a03-4d39-81ed-d150d92cf81f",
   "metadata": {
    "scrolled": true
   },
   "outputs": [],
   "source": [
    "dt = 1e-3\n",
    "tLrs = IonChannelTools.spike(200,dt,\"rs\")"
   ]
  },
  {
   "cell_type": "code",
   "execution_count": null,
   "id": "2f8abfbf-4d2b-4133-8a3f-df17ab923e84",
   "metadata": {},
   "outputs": [],
   "source": [
    "dist_rs = IonChannelTools.evolvedist(Gmatrix,tLrs[:,2],dt)\n",
    "Qrs = IonChannelTools.Qex(dist_rs,Gmatrix,tLrs[:,2],dt)\n",
    "\n",
    "#steady states\n",
    "ssrs = Array{Float64}(undef,0,9)\n",
    "for i in 1:size(tLrs,1)\n",
    "    ssrs = [ssrs; IonChannelTools.steadystate(Gmatrix,tLrs[i,2])]\n",
    "end\n",
    "\n",
    "#H for actual distribution\n",
    "H_rs = []\n",
    "for i in 1:length(dist_rs[:,1])\n",
    "    append!(H_rs, IonChannelTools.H(dist_rs[i,:]))\n",
    "end\n",
    "#H for hypothetical steady states\n",
    "H_rs_ss = []\n",
    "for i in 1:length(dist_rs[:,1])\n",
    "    append!(H_rs_ss, IonChannelTools.H(ssrs[i,:]))\n",
    "end"
   ]
  },
  {
   "cell_type": "code",
   "execution_count": null,
   "id": "df99998f-c1cf-493a-b44d-ec96d287f2af",
   "metadata": {},
   "outputs": [],
   "source": [
    "dSrs = []\n",
    "for i in 1:length(tLrs[:,1])\n",
    "    append!(dSrs, IonChannelTools.S_tot(Gmatrix(tLrs[i,2]),dist_rs[i,:]))\n",
    "end"
   ]
  },
  {
   "cell_type": "code",
   "execution_count": null,
   "id": "2a15d39a-aebc-45b5-baec-1ee39e5cb8e1",
   "metadata": {},
   "outputs": [],
   "source": [
    "#plot of H over protocol, with steady state H and max H\n",
    "pHrs = IonChannelTools.fxnprotplot(H_rs,tLrs[:,2],tLrs[:,1])\n",
    "pHrs = title!(\"H[X] with rs protocol\")\n",
    "pHrs = plot!(tLrs[:,1],H_rs_ss, label=\"H[ss]\")\n",
    "pHrs = hline!([maxH],label=\"max H\")"
   ]
  },
  {
   "cell_type": "code",
   "execution_count": null,
   "id": "84d69f3f-6a7d-4475-a5fb-a5478010b470",
   "metadata": {},
   "outputs": [],
   "source": [
    "pQrs = IonChannelTools.fxnprotplot(Qrs,tLrs[:,2],tLrs[:,1])\n",
    "pQrs = title!(\"Qex for rs\")"
   ]
  },
  {
   "cell_type": "code",
   "execution_count": null,
   "id": "1198f7d5-5436-4e26-91e3-cf65b0126b1d",
   "metadata": {},
   "outputs": [],
   "source": [
    "pdQrs = plot(tLrs[1:end-1,1],IonChannelTools.ddt(H_rs,dt)+IonChannelTools.ddt(Qrs,dt),label=\"dQ+dH\",ylimits=[-.5,.5])\n",
    "pdQrs = title!(\"dQex+dH, S_tot\")\n",
    "pdQrs = plot!(tLrs[1:end-1,1],IonChannelTools.ddt(H_rs,dt),label=\"dH\",linestyle=:dash)\n",
    "pdQrs = plot!(tLrs[1:end-1,1],IonChannelTools.ddt(Qrs,dt),label=\"dQ\",linestyle=:dash)\n",
    "pdQrs = plot!(tLrs[:,1],dSrs,label=\"dS_tot\")"
   ]
  },
  {
   "cell_type": "code",
   "execution_count": null,
   "id": "ff88ccbb-37c5-4f0f-b129-7369267c6bc5",
   "metadata": {
    "scrolled": true
   },
   "outputs": [],
   "source": [
    "S_s = IonChannelTools.S_array(IonChannelTools.S_sys,Gmatrix,tL45[:,2],d1) #system epr -45 mV\n",
    "S_m = IonChannelTools.S_array(IonChannelTools.S_med,Gmatrix,tL45[:,2],d1) #med epr -45 mV"
   ]
  },
  {
   "cell_type": "code",
   "execution_count": null,
   "id": "db53a0aa-ca29-43a0-848e-8bb11064f9ac",
   "metadata": {},
   "outputs": [],
   "source": [
    "S_check = plot(tL45[:,1],(S_s.+S_m), label=\"S_tot (sum)\",title=\"S compenents -45mV\")\n",
    "S_check = plot!(tL45[:,1],[S_s S_m],linestyle=:dash,label=[\"S_sys\" \"S_med\"])\n",
    "#S_check = plot!(tL45[:,1],S1,linestyle=:dash,label=\"S_tot (direct)\")\n",
    "S_check = plot!(tL45[1:end-1,1],IonChannelTools.ddt(H_t,dt),label=\"dH\")"
   ]
  },
  {
   "cell_type": "code",
   "execution_count": null,
   "id": "abb8af1c-076c-4421-b28f-a4a9324da933",
   "metadata": {},
   "outputs": [],
   "source": [
    "#critical points match between dH and S_sys\n",
    "print(\"minimums for S_sys, dH \\n\")\n",
    "print(findmin(S_s))\n",
    "print(\"\\n\")\n",
    "print(findmin(IonChannelTools.ddt(H_t,dt)))\n",
    "\n",
    "print(\"\\n\\n left zeros for S_sys,dH \\n\")\n",
    "print(findmin(abs.(S_s[1:findmin(S_s)[2]])))\n",
    "print(\"\\n\")\n",
    "print(findmin(abs.(IonChannelTools.ddt(H_t,dt)[1:findmin(S_s)[2]])))\n",
    "\n",
    "#print(\"\\n\\n right zeros for S_sys,dH (index value is as shown +708 )\\n\")\n",
    "#print(findmin(abs.(S_s[708:5000])))\n",
    "#print(\"\\n\")\n",
    "#print(findmin(abs.(ddt(H_t,dt)[708:5000])))"
   ]
  },
  {
   "cell_type": "code",
   "execution_count": null,
   "id": "1f552464-ab5a-4f38-9047-98229ddf0171",
   "metadata": {},
   "outputs": [],
   "source": []
  }
 ],
 "metadata": {
  "kernelspec": {
   "display_name": "Julia 1.10.1",
   "language": "julia",
   "name": "julia-1.10"
  },
  "language_info": {
   "file_extension": ".jl",
   "mimetype": "application/julia",
   "name": "julia",
   "version": "1.10.1"
  }
 },
 "nbformat": 4,
 "nbformat_minor": 5
}
