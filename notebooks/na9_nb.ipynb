{
 "cells": [
  {
   "cell_type": "code",
   "execution_count": null,
   "id": "18425774-8846-4a53-a655-25e9b4f9ba2a",
   "metadata": {},
   "outputs": [],
   "source": [
    "using DrWatson\n",
    "@quickactivate \"IonChannels\"\n",
    "\n",
    "using IonChannelTools\n",
    "include(srcdir(\"na9.jl\"))\n",
    "using Plots"
   ]
  },
  {
   "cell_type": "code",
   "execution_count": null,
   "id": "5c05feeb-f6c8-412e-94cc-ed61a83f7c48",
   "metadata": {},
   "outputs": [],
   "source": [
    "#parameter range\n",
    "\n",
    "alphas = range(-100,100,1001)\n",
    "\n",
    "using Plots\n",
    "plta = plot(title=\"parameter values from -100 to 100 mV\")\n",
    "for a in alphas\n",
    "    p = param(a)\n",
    "    as = ([a a a a a],[a a a a a])\n",
    "    plta = scatter!(as,p,legend=false,mc=\"red\",ms=2,ma=.1)\n",
    "    \n",
    "end\n",
    "\n",
    "plta"
   ]
  },
  {
   "cell_type": "code",
   "execution_count": null,
   "id": "49535003-91fd-4269-a77a-0efe9b20f44f",
   "metadata": {},
   "outputs": [],
   "source": [
    "#steady state range\n",
    "plts = plot(title=\"Steady states over voltage -100 to 100 mV\")\n",
    "for a in alphas\n",
    "    plts = scatter!([a a a a a a a a a],IonChannelTools.steadystate(Gmatrix,a),legend=false,mc=\"red\",ms=2,ma=.1)\n",
    "end\n",
    "plts"
   ]
  },
  {
   "cell_type": "code",
   "execution_count": null,
   "id": "ad28d8ad-4b7e-4e41-85e8-801d8b943cf8",
   "metadata": {},
   "outputs": [],
   "source": [
    "#steady states over spike range\n",
    "dt = 1e-3 #time step in ms\n",
    "tL = IonChannelTools.spike(200,dt)\n",
    "plts2 = plot(title=\"steady states over spike protocol\")\n",
    "for i in 1:size(tL,1)\n",
    "    if i%500==0\n",
    "        plts2 = scatter!(fill(tL[i,1],(1,9)),IonChannelTools.steadystate(Gmatrix,tL[i,2]),legend=false,mc=\"red\",ms=2,ma=.1)\n",
    "    end\n",
    "end\n",
    "\n",
    "plts2 = plot!(twinx(),tL[:,1],tL[:,2])"
   ]
  },
  {
   "cell_type": "code",
   "execution_count": null,
   "id": "f8d83983-9fff-4ebe-b3b4-3aa405fe371a",
   "metadata": {
    "scrolled": true
   },
   "outputs": [],
   "source": [
    "dt = 1e-3\n",
    "tL = IonChannelTools.spike(200,dt) #spike\n",
    "mu0 = IonChannelTools.steadystate(Gmatrix,tL[1,2])\n",
    "Nadist = IonChannelTools.evolvedist(Gmatrix,tL[:,2],dt)\n"
   ]
  },
  {
   "cell_type": "code",
   "execution_count": null,
   "id": "79a323c9-3e76-4fc5-bbaa-572714854f3b",
   "metadata": {},
   "outputs": [],
   "source": [
    "pltdis = IonChannelTools.fxnprotplot(Nadist,tL[:,2],tL[:,1])"
   ]
  },
  {
   "cell_type": "code",
   "execution_count": null,
   "id": "cfbc5f97-2799-4640-8264-011cb939d786",
   "metadata": {
    "scrolled": true
   },
   "outputs": [],
   "source": [
    "Naqex = IonChannelTools.Qex(Nadist,Gmatrix,tL[:,2],dt)\n"
   ]
  },
  {
   "cell_type": "code",
   "execution_count": null,
   "id": "34d2a641-78b4-4f01-b510-0ea8349f1d81",
   "metadata": {},
   "outputs": [],
   "source": [
    "plt2 = IonChannelTools.fxnprotplot(Naqex,tL[:,2],tL[:,1])"
   ]
  },
  {
   "cell_type": "markdown",
   "id": "69cb9d5c-6d0c-412a-8100-22b5485b5711",
   "metadata": {},
   "source": [
    "why is it so negative??  \n",
    "try: recreate thermo graphs from paper with pulse to check...  \n",
    "figure out which S fro paper to use  "
   ]
  },
  {
   "cell_type": "code",
   "execution_count": null,
   "id": "9dcf5114-0495-44af-b59a-4db57e2e1c67",
   "metadata": {},
   "outputs": [],
   "source": [
    "tL = IonChannelTools.spike(200,dt,\"ib\") #spike\n",
    "mu0 = IonChannelTools.steadystate(Gmatrix,tL[1,2])\n",
    "Nadist = IonChannelTools.evolvedist(Gmatrix,tL[:,2],dt)\n",
    "Naqex = IonChannelTools.Qex(Nadist,Gmatrix,tL[:,2],dt)\n",
    "plt3 = IonChannelTools.fxnprotplot(Naqex,tL[:,2],tL[:,1])\n",
    "plt3 = plot!(title=\"9-state Q_ex with ib\")"
   ]
  },
  {
   "cell_type": "code",
   "execution_count": null,
   "id": "a4cff3ec-276c-42cc-927d-eff092d8c7a3",
   "metadata": {},
   "outputs": [],
   "source": [
    "#dQ_ex/dt\n",
    "function dQex(dists,G,L,dt)\n",
    "    Qex=[0] #starts at 0\n",
    "    for i= 1:length(L)-1 #for each step\n",
    "\tnewQ = -((transpose(dists[i+1,:]-dists[i,:])*transpose(-log.(IonChannelTools.steadystate(G,L[i]))))[1]) #defined equation term\n",
    "        Qex = [Qex; newQ] #summation\n",
    "        end\n",
    "    return Qex./dt #array of Qex accumulating over the whole interval\n",
    "    end\n"
   ]
  },
  {
   "cell_type": "code",
   "execution_count": null,
   "id": "658e7bce-4176-4200-84a3-795aa772c61c",
   "metadata": {
    "scrolled": true
   },
   "outputs": [],
   "source": [
    "nadQ = dQex(Nadist,Gmatrix,tL[:,2],dt) #dQ/dt, Q rate\n",
    "#IonChannelTools.Qex(Nadist,Gmatrix,tL[:,2],dt)"
   ]
  },
  {
   "cell_type": "code",
   "execution_count": null,
   "id": "13b2d62d-7b17-4b8d-a7b1-d4efafa55fc1",
   "metadata": {},
   "outputs": [],
   "source": [
    "#mask = findall(nadQ.<-10)\n",
    "#nadQ[mask] .= 0"
   ]
  },
  {
   "cell_type": "code",
   "execution_count": null,
   "id": "5d0c78d7-d305-4e80-8d50-4e82ff473b36",
   "metadata": {
    "scrolled": true
   },
   "outputs": [],
   "source": [
    "function ddt(x,dt)\n",
    "    dx = Array{Float64}(undef,0,1)\n",
    "    for i in 1:length(x)-1\n",
    "        dx = [dx; (x[i+1]-x[i])/dt]\n",
    "    end\n",
    "    return dx\n",
    "end\n",
    "\n",
    "dqex = ddt(Naqex,dt)"
   ]
  },
  {
   "cell_type": "code",
   "execution_count": null,
   "id": "2b47aa9a-2db6-4964-8c5e-db0a8b17cab1",
   "metadata": {
    "scrolled": true
   },
   "outputs": [],
   "source": [
    "dqex[findall(abs.(dqex).>.1)] .= 0\n",
    "#dqex[findall(dqex.>.1)] .= 0"
   ]
  },
  {
   "cell_type": "code",
   "execution_count": null,
   "id": "a6b2723d-4851-4817-bff8-2ab057e5fa0a",
   "metadata": {},
   "outputs": [],
   "source": [
    "pltdQ = IonChannelTools.fxnprotplot(dqex,tL[1:end-1,2],tL[1:end-1,1])"
   ]
  },
  {
   "cell_type": "code",
   "execution_count": null,
   "id": "bdc4816b-c7b6-44b9-bf2d-72d82c901993",
   "metadata": {},
   "outputs": [],
   "source": [
    "ss = Array{Float64}(undef,0,9)\n",
    "for i in 1:size(tL,1)\n",
    "    ss = [ss; IonChannelTools.steadystate(Gmatrix,tL[i,2])]\n",
    "end #all steady states"
   ]
  },
  {
   "cell_type": "code",
   "execution_count": null,
   "id": "476871d1-6f4c-4bda-a8d6-eab229f7032b",
   "metadata": {},
   "outputs": [],
   "source": [
    "IonChannelTools.fxnprotplot(Nadist-ss,tL[:,2],tL[:,1]) #difference of dist from steady state"
   ]
  },
  {
   "cell_type": "code",
   "execution_count": null,
   "id": "0e90121b-e92b-4593-99e5-5100b6378cd2",
   "metadata": {
    "scrolled": true
   },
   "outputs": [],
   "source": [
    "#suprisal\n",
    "IonChannelTools.fxnprotplot(-log.(ss),tL[:,2],tL[:,1])"
   ]
  },
  {
   "cell_type": "markdown",
   "id": "a92c221c-31b3-4851-8bc6-e4c9f80040f6",
   "metadata": {},
   "source": [
    "**Some steady state entropy**"
   ]
  },
  {
   "cell_type": "code",
   "execution_count": null,
   "id": "00337cef-5199-4fea-a3e2-d5ebca66ddf7",
   "metadata": {
    "scrolled": true
   },
   "outputs": [],
   "source": [
    "dt = 1e-3\n",
    "tL45 = IonChannelTools.pulse([0 20],dt,[0,0,-45,0])\n",
    "d1 = IonChannelTools.evolvedist(Gmatrix,tL45[:,2],dt,IonChannelTools.steadystate(Gmatrix,-70)) #-70 mV is \"resting potential\""
   ]
  },
  {
   "cell_type": "code",
   "execution_count": null,
   "id": "5b10f6cf-9c0e-42c6-b0b8-23b9e56b4d22",
   "metadata": {},
   "outputs": [],
   "source": [
    "IonChannelTools.fxnprotplot(IonChannelTools.Qex(d1,Gmatrix,tL45[:,2],dt),tL45[:,2],tL45[:,1])"
   ]
  },
  {
   "cell_type": "code",
   "execution_count": null,
   "id": "ca85a1cc-1f62-4084-99f1-1e0572f0e8ab",
   "metadata": {
    "scrolled": true
   },
   "outputs": [],
   "source": [
    "#their S_tot entropy calculation\n",
    "\n",
    "#for a single t\n",
    "#function S_tot(Gmatrix, V, k, dist)\n",
    "function S_tot(G,dist)\n",
    "    #G as actual matrix with values, dist is single row values \n",
    "    S_t = 0\n",
    "#    len = length(Gmatrix(0)[1,:]) #side dimension of matrix\n",
    "    len = length(G[1,:]) #side dimension of matrix\n",
    "    for i in 1:len\n",
    "        for j in 1:len\n",
    "#            G = Gmatrix(V)\n",
    "            #kB/2 * sum( (q_ij(V)*p_i - q_ji(V)*p_j)*ln(q_ij/q_ji)\n",
    "            s1 = (G[i,j]*dist[i]-G[j,i]*dist[j])\n",
    "            s2 = log(abs((G[i,j]*dist[i])/(G[j,i]*dist[j])))\n",
    "            if isnan(s2)\n",
    "                s2 = 0\n",
    "            end\n",
    "            s = s1*s2\n",
    "            S_t += s\n",
    "        end\n",
    "    end\n",
    "    return S_t\n",
    "end\n",
    "\n",
    "t = 1 #time index\n",
    "#S_tot(Gmatrix, tL45[t,1], t, dist)\n",
    "\n",
    "S = []\n",
    "for t in 1:length(tL45[:,1])\n",
    "#    append!(S, S_tot(Gmatrix, tL45[t,1], t, d1))\n",
    "    append!(S, S_tot(Gmatrix(-45),d1[t,:]))\n",
    "end\n",
    "S"
   ]
  },
  {
   "cell_type": "code",
   "execution_count": null,
   "id": "04be9737-81ae-49b3-8b0c-7451b870cf48",
   "metadata": {},
   "outputs": [],
   "source": [
    "plot(tL45[:,1],S)"
   ]
  },
  {
   "cell_type": "code",
   "execution_count": null,
   "id": "e0a66282-32d8-49e7-9b93-a8b800facdfa",
   "metadata": {},
   "outputs": [],
   "source": [
    "ss = Array{Float64}(undef,0,9)\n",
    "for i in 1:size(tL45,1)\n",
    "    ss = [ss; IonChannelTools.steadystate(Gmatrix,tL45[i,2])]\n",
    "end #all steady states\n",
    "IonChannelTools.fxnprotplot(d1-ss,tL45[:,2],tL[:,1]) #difference of dist from steady state"
   ]
  },
  {
   "cell_type": "code",
   "execution_count": null,
   "id": "3f6bb013-8a1e-4db3-9e57-2269a595d0e4",
   "metadata": {},
   "outputs": [],
   "source": [
    "dt = 1e-3\n",
    "tL30 = IonChannelTools.pulse([0 20],dt,[0,0,-30,0])\n",
    "d2 = IonChannelTools.evolvedist(Gmatrix,tL30[:,2],dt,IonChannelTools.steadystate(Gmatrix,-70)) #-70 mV is \"resting potential\"\n",
    "S2 = []\n",
    "for t in 1:length(tL30[:,1])\n",
    "    append!(S2, S_tot(Gmatrix(-30),d2[t,:]))\n",
    "end\n",
    "ss = Array{Float64}(undef,0,9)\n",
    "for i in 1:size(tL30,1)\n",
    "    ss = [ss; IonChannelTools.steadystate(Gmatrix,tL30[i,2])]\n",
    "end #all steady states\n",
    "IonChannelTools.fxnprotplot(d2-ss,tL30[:,2],tL30[:,1]) #difference of dist from steady state"
   ]
  },
  {
   "cell_type": "code",
   "execution_count": null,
   "id": "23a1dee3-bff5-4de5-b99d-7766d5b700d9",
   "metadata": {},
   "outputs": [],
   "source": [
    "dt = 1e-3\n",
    "tL15 = IonChannelTools.pulse([0 20],dt,[0,0,15,0])\n",
    "d3 = IonChannelTools.evolvedist(Gmatrix,tL15[:,2],dt,IonChannelTools.steadystate(Gmatrix,-70)) #-70 mV is \"resting potential\"\n",
    "S3 = []\n",
    "for t in 1:length(tL15[:,1])\n",
    "    append!(S3, S_tot(Gmatrix(15),d3[t,:]))\n",
    "end\n",
    "ss = Array{Float64}(undef,0,9)\n",
    "for i in 1:size(tL15,1)\n",
    "    ss = [ss; IonChannelTools.steadystate(Gmatrix,tL15[i,2])]\n",
    "end #all steady states\n",
    "IonChannelTools.fxnprotplot(d3-ss,tL15[:,2],tL15[:,1]) #difference of dist from steady state"
   ]
  },
  {
   "cell_type": "code",
   "execution_count": null,
   "id": "ad26e87b-7196-4ea7-aaf9-df9cd237cdbf",
   "metadata": {},
   "outputs": [],
   "source": []
  }
 ],
 "metadata": {
  "kernelspec": {
   "display_name": "Julia 1.10.1",
   "language": "julia",
   "name": "julia-1.10"
  },
  "language_info": {
   "file_extension": ".jl",
   "mimetype": "application/julia",
   "name": "julia",
   "version": "1.10.1"
  }
 },
 "nbformat": 4,
 "nbformat_minor": 5
}
