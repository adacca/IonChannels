version https://git-lfs.github.com/spec/v1
oid sha256:e1723412f3a3135da6e7b24b9e14d41ce9d7073164698396a8a947c0159c9fe1
size 24449534
