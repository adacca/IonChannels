{
 "cells": [
  {
   "cell_type": "code",
   "execution_count": null,
   "id": "00a41148-0a5e-40b9-9921-666df6bf0212",
   "metadata": {},
   "outputs": [],
   "source": [
    "plt2 = IonChannelTools.fxnprotplot(qex,tL[:,2],tL[:,1])\n",
    "plt2 = plot!(title=\"excess heat dissipation\")"
   ]
  },
  {
   "cell_type": "code",
   "execution_count": null,
   "id": "ba980cc9-2eb2-409a-acbb-d247c2fa91eb",
   "metadata": {},
   "outputs": [],
   "source": [
    "dt = 1e-2\n",
    "tL45 = IonChannelTools.pulse([0 2000],dt,[0,0,-45,0])\n",
    "d1 = IonChannelTools.evolvedist(Gmatrix,tL45[:,2],dt,IonChannelTools.steadystate(Gmatrix,-70)) #-70 mV is \"resting potential\"\n",
    "ss = Array{Float64}(undef,0,5)\n",
    "for i in 1:size(tL45,1)\n",
    "    ss = [ss; IonChannelTools.steadystate(Gmatrix,tL45[i,2])]\n",
    "end #all steady states\n",
    "plt3 = IonChannelTools.fxnprotplot(d1-ss,tL45[:,2],tL45[:,1]) #difference of dist from steady state\n",
    "plt3 = plot!(title=\"difference from steady state distribution\")"
   ]
  },
  {
   "cell_type": "code",
   "execution_count": null,
   "id": "18729374-9681-486b-ad57-6719b3fb362c",
   "metadata": {},
   "outputs": [],
   "source": [
    "dt = 1e-2\n",
    "tL30 = IonChannelTools.pulse([0 2000],dt,[0,0,0,0])\n",
    "d1 = IonChannelTools.evolvedist(Gmatrix,tL30[:,2],dt,IonChannelTools.steadystate(Gmatrix,-90)) #-70 mV is \"resting potential\"\n",
    "ss = Array{Float64}(undef,0,5)\n",
    "for i in 1:size(tL30,1)\n",
    "    ss = [ss; IonChannelTools.steadystate(Gmatrix,tL30[i,2])]\n",
    "end #all steady states\n",
    "IonChannelTools.fxnprotplot(d1-ss,tL30[:,2],tL30[:,1]) #difference of dist from steady state"
   ]
  },
  {
   "cell_type": "code",
   "execution_count": null,
   "id": "7bf510ae-6425-4844-a63a-6f276fd6e1fb",
   "metadata": {},
   "outputs": [],
   "source": [
    "dt = 1e-3\n",
    "tL45 = IonChannelTools.pulse([0 200],dt,[0,0,-45,0])\n",
    "d1 = IonChannelTools.evolvedist(Gmatrix,tL45[:,2],dt,IonChannelTools.steadystate(Gmatrix,-45)) #-70 mV is \"resting potential\"\n",
    "ss = Array{Float64}(undef,0,5)\n",
    "for i in 1:size(tL45,1)\n",
    "    ss = [ss; IonChannelTools.steadystate(Gmatrix,tL45[i,2])]\n",
    "end #all steady states\n",
    "IonChannelTools.fxnprotplot(d1-ss,tL45[:,2],tL45[:,1]) #difference of dist from steady state"
   ]
  },
  {
   "cell_type": "code",
   "execution_count": null,
   "id": "04c23264-4e86-4d6e-bb8b-726ae82965cf",
   "metadata": {},
   "outputs": [],
   "source": [
    "#I(t) = mu(t)|open (V-80mV)\n",
    "#give open vector as row vector\n",
    "function I_avg(V,V_0,mu,open)\n",
    "    I = Array{Float64}(undef,0,1)\n",
    "    for i in 1:size(V,1)\n",
    "        I = [I; (V[i]-V_0)*open*mu[i,:]] #vector mult swapped bc mu default is column\n",
    "    end\n",
    "    return I\n",
    "end"
   ]
  },
  {
   "cell_type": "code",
   "execution_count": null,
   "id": "544dc6f8-69b1-4929-a29c-83da8cc8a710",
   "metadata": {
    "scrolled": true
   },
   "outputs": [],
   "source": [
    "I_trans = I_avg(tL[:,2],-80,dist,[0 0 0 1 0])"
   ]
  },
  {
   "cell_type": "code",
   "execution_count": null,
   "id": "56cfab0e-5f21-4942-b6f3-3c683de5a603",
   "metadata": {},
   "outputs": [],
   "source": [
    "plt_I = IonChannelTools.fxnprotplot(I_trans,tL[:,2],tL[:,1])\n",
    "plt_I = plot!(title=\"Transient current with AP spike\")"
   ]
  },
  {
   "cell_type": "code",
   "execution_count": null,
   "id": "1c404847-45f9-493b-8f10-d11a946ef17b",
   "metadata": {},
   "outputs": [],
   "source": []
  }
 ],
 "metadata": {
  "kernelspec": {
   "display_name": "Julia 1.11.4",
   "language": "julia",
   "name": "julia-1.11"
  },
  "language_info": {
   "file_extension": ".jl",
   "mimetype": "application/julia",
   "name": "julia",
   "version": "1.11.4"
  }
 },
 "nbformat": 4,
 "nbformat_minor": 5
}
