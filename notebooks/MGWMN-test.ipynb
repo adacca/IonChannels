{
 "cells": [
  {
   "cell_type": "code",
   "execution_count": null,
   "id": "7b08e3ce-2f51-44c7-9225-6deb96b5b69b",
   "metadata": {},
   "outputs": [],
   "source": [
    "using DrWatson\n",
    "@quickactivate \"IonChannels\"\n",
    "\n",
    "using IonChannelTools\n",
    "include(srcdir(\"KBZR-MGWMN.jl\"))\n"
   ]
  },
  {
   "cell_type": "code",
   "execution_count": null,
   "id": "90543899-9d7d-48ad-b0f5-b5c3eb9d37b2",
   "metadata": {
    "scrolled": true
   },
   "outputs": [],
   "source": [
    "dt = 1e-3\n",
    "trange = [-2 10]\n",
    "tL = IonChannelTools.spike(200,dt) #spike\n",
    "mu0 = IonChannelTools.steadystate(Gmatrix,tL[1,2])\n",
    "dist = IonChannelTools.evolvedist(Gmatrix,tL[:,2],dt)\n"
   ]
  },
  {
   "cell_type": "code",
   "execution_count": null,
   "id": "14a3dcaf-e935-40dd-9f96-33ae50ae4601",
   "metadata": {
    "scrolled": true
   },
   "outputs": [],
   "source": [
    "qex = IonChannelTools.Qex(dist,Gmatrix,tL[:,2],dt)\n"
   ]
  },
  {
   "cell_type": "code",
   "execution_count": null,
   "id": "716f5ff5-3629-483c-99e1-624dd54c9204",
   "metadata": {},
   "outputs": [],
   "source": [
    "plt1 = IonChannelTools.fxnprotplot(dist,tL[:,2],tL[:,1])\n",
    "using Plots\n",
    "plt1 = plot!(title=\"relative state distribution\")"
   ]
  },
  {
   "cell_type": "code",
   "execution_count": null,
   "id": "f74a4676-4649-4885-891d-8eabdbdca461",
   "metadata": {},
   "outputs": [],
   "source": [
    "plt2 = IonChannelTools.fxnprotplot(qex,tL[:,2],tL[:,1])\n",
    "plt2 = plot!(title=\"excess heat dissipation\")\n",
    "#5x bigger than WLMSR"
   ]
  },
  {
   "cell_type": "code",
   "execution_count": null,
   "id": "d843ba22-97d5-45f7-894e-940c9a204bc8",
   "metadata": {},
   "outputs": [],
   "source": [
    "dt = 1e-2\n",
    "tL45 = IonChannelTools.pulse([0 2000],dt,[0,0,-45,0])\n",
    "d1 = IonChannelTools.evolvedist(Gmatrix,tL45[:,2],dt,IonChannelTools.steadystate(Gmatrix,-70)) #-70 mV is \"resting potential\"\n",
    "ss = Array{Float64}(undef,0,5)\n",
    "for i in 1:size(tL45,1)\n",
    "    ss = [ss; IonChannelTools.steadystate(Gmatrix,tL45[i,2])]\n",
    "end #all steady states\n",
    "plt3 = IonChannelTools.fxnprotplot(d1-ss,tL45[:,2],tL45[:,1]) #difference of dist from steady state\n",
    "plt3 = plot!(title=\"difference from steady state distribution\")"
   ]
  },
  {
   "cell_type": "code",
   "execution_count": null,
   "id": "7bf510ae-6425-4844-a63a-6f276fd6e1fb",
   "metadata": {},
   "outputs": [],
   "source": [
    "dt = 1e-3\n",
    "tL45 = IonChannelTools.pulse([0 200],dt,[0,0,-45,0])\n",
    "d1 = IonChannelTools.evolvedist(Gmatrix,tL45[:,2],dt,IonChannelTools.steadystate(Gmatrix,-45)) #-70 mV is \"resting potential\"\n",
    "ss = Array{Float64}(undef,0,5)\n",
    "for i in 1:size(tL45,1)\n",
    "    ss = [ss; IonChannelTools.steadystate(Gmatrix,tL45[i,2])]\n",
    "end #all steady states\n",
    "IonChannelTools.fxnprotplot(d1-ss,tL45[:,2],tL45[:,1]) #difference of dist from steady state"
   ]
  },
  {
   "cell_type": "code",
   "execution_count": null,
   "id": "04c23264-4e86-4d6e-bb8b-726ae82965cf",
   "metadata": {},
   "outputs": [],
   "source": []
  }
 ],
 "metadata": {
  "kernelspec": {
   "display_name": "Julia 1.11.4",
   "language": "julia",
   "name": "julia-1.11"
  },
  "language_info": {
   "file_extension": ".jl",
   "mimetype": "application/julia",
   "name": "julia",
   "version": "1.11.4"
  }
 },
 "nbformat": 4,
 "nbformat_minor": 5
}
