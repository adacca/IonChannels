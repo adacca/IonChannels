{
 "cells": [
  {
   "cell_type": "code",
   "execution_count": null,
   "id": "313e6973-a057-4c21-8948-65f0419cbd2f",
   "metadata": {},
   "outputs": [],
   "source": [
    "using DrWatson\n",
    "@quickactivate\n",
    "\n",
    "using IonChannelTools"
   ]
  },
  {
   "cell_type": "code",
   "execution_count": null,
   "id": "37cb4b9c-b952-4e39-9661-ff1e2ac4c5b0",
   "metadata": {},
   "outputs": [],
   "source": [
    "Vrange = -70:1e-3:60"
   ]
  },
  {
   "cell_type": "code",
   "execution_count": null,
   "id": "d25e8aa1-0824-4767-b1c4-49abb5c5b43d",
   "metadata": {},
   "outputs": [],
   "source": [
    "include(srcdir(\"KBZR-WLMSR.jl\"))\n",
    "ss_WLMSR = Array{Float64}(undef,0,5)\n",
    "for i in Vrange\n",
    "    ss_WLMSR = [ss_WLMSR; IonChannelTools.steadystate(Gmatrix,i)]\n",
    "end #all steady states"
   ]
  },
  {
   "cell_type": "code",
   "execution_count": null,
   "id": "3dc2aedd-160d-46e0-953b-922a19e74611",
   "metadata": {},
   "outputs": [],
   "source": [
    "include(srcdir(\"KBZR-MGWMN.jl\"))\n",
    "ss_MGWMN = Array{Float64}(undef,0,5)\n",
    "for i in Vrange\n",
    "    ss_MGWMN = [ss_MGWMN; IonChannelTools.steadystate(Gmatrix,i)]\n",
    "end #all steady states"
   ]
  },
  {
   "cell_type": "code",
   "execution_count": null,
   "id": "9487a735-f1fc-44f9-91b3-b7684036c5dd",
   "metadata": {},
   "outputs": [],
   "source": [
    "include(srcdir(\"KBZR-CR.jl\"))\n",
    "ss_CR = Array{Float64}(undef,0,5)\n",
    "for i in Vrange\n",
    "    ss_CR = [ss_CR; IonChannelTools.steadystate(Gmatrix,i)]\n",
    "end #all steady states"
   ]
  },
  {
   "cell_type": "code",
   "execution_count": null,
   "id": "53878c2c-1667-4291-99f3-05864eb8fb00",
   "metadata": {},
   "outputs": [],
   "source": [
    "include(srcdir(\"KBZR-OGD.jl\"))\n",
    "ss_OGD = Array{Float64}(undef,0,4)\n",
    "for i in Vrange\n",
    "    ss_OGD = [ss_OGD; IonChannelTools.steadystate(Gmatrix,i)]\n",
    "end #all steady states"
   ]
  },
  {
   "cell_type": "code",
   "execution_count": null,
   "id": "be3801c8-5fbb-4675-a41a-de6b0ceddfcb",
   "metadata": {},
   "outputs": [],
   "source": [
    "include(srcdir(\"K5.jl\"))\n",
    "ss_tb = Array{Float64}(undef,0,5)\n",
    "for i in Vrange\n",
    "    ss_tb = [ss_tb; IonChannelTools.steadystate(Gmatrix,i+1e-12)] #tiny bit to avoid inftys\n",
    "end #all steady states"
   ]
  },
  {
   "cell_type": "code",
   "execution_count": null,
   "id": "4ec2bee6-ec03-40b2-8a6d-f298f3959233",
   "metadata": {},
   "outputs": [],
   "source": [
    "#I(t) = mu(t)|open (V-80mV)\n",
    "#give open vector as row vector\n",
    "function I_avg(V,V_0,mu,open)\n",
    "    I = Array{Float64}(undef,0,1)\n",
    "    for i in 1:size(V,1)\n",
    "        I = [I; (V[i]-V_0)*open*mu[i,:]] #vector mult swapped bc mu default is column\n",
    "    end\n",
    "    return I\n",
    "end"
   ]
  },
  {
   "cell_type": "code",
   "execution_count": null,
   "id": "db9c6511-59e1-4594-b348-9aabaa80c5b6",
   "metadata": {
    "scrolled": true
   },
   "outputs": [],
   "source": [
    "I_WLMSR = I_avg(Vrange,-80,ss_WLMSR,[0 0 0 1 0])\n",
    "I_MGWMN = I_avg(Vrange,-80,ss_MGWMN,[0 0 0 1 0])\n",
    "I_CR = I_avg(Vrange,-80,ss_CR,[0 0 0 1 0])\n",
    "I_OGD = I_avg(Vrange,-80,ss_OGD,[0 0 1 0])\n",
    "I_tb = I_avg(Vrange,-80,ss_tb,[0 0 0 0 1])"
   ]
  },
  {
   "cell_type": "code",
   "execution_count": null,
   "id": "b9b6568a-3c9a-4eba-84a9-9b739fa7ad71",
   "metadata": {},
   "outputs": [],
   "source": [
    "using Plots\n",
    "plt1 = plot(title=\"steady state current over voltage\",xlabel=\"transmembrane voltage (mV)\")\n",
    "plt1 = plot!(Vrange,I_WLMSR,label=\"WLMSR\")\n",
    "plt1 = plot!(Vrange,I_MGWMN,label=\"MGWMN\")\n",
    "plt1 = plot!(Vrange,I_CR,label=\"CR\")\n",
    "plt1 = plot!(Vrange,I_OGD,label=\"ODG\")\n",
    "#plt1 = plot!(Vrange,I_tb,label=\"textbook\")\n"
   ]
  },
  {
   "cell_type": "code",
   "execution_count": null,
   "id": "4077c468-a42f-45b5-8ba5-5373c508db70",
   "metadata": {},
   "outputs": [],
   "source": [
    "plot(Vrange,ss_tb,title=\"textbook model ss dist\",xlabel=\"transmembrane voltage (mV)\")\n",
    "#lack of inactivation state means open state just increases as voltage increases"
   ]
  },
  {
   "cell_type": "code",
   "execution_count": null,
   "id": "0a6ff937-7376-4822-ac10-a6cb1396dfd2",
   "metadata": {
    "scrolled": true
   },
   "outputs": [],
   "source": [
    "#normalizing\n",
    "nI_WLMSR = I_WLMSR/maximum(I_WLMSR)\n",
    "nI_MGWMN = I_MGWMN/maximum(I_MGWMN)\n",
    "nI_CR = I_CR/maximum(I_CR)\n",
    "nI_OGD = I_OGD/maximum(I_OGD)\n",
    "nI_tb = I_tb/maximum(I_tb)\n"
   ]
  },
  {
   "cell_type": "code",
   "execution_count": null,
   "id": "dfc7d842-029f-4eff-9a01-74fc70082a86",
   "metadata": {},
   "outputs": [],
   "source": [
    "plt2 = plot(title=\"relative steady state current over voltage\",xlabel=\"transmembrane voltage (mV)\")\n",
    "plt2 = plot!(Vrange,nI_WLMSR,label=\"WLMSR\")\n",
    "plt2 = plot!(Vrange,nI_MGWMN,label=\"MGWMN\")\n",
    "plt2 = plot!(Vrange,nI_CR,label=\"CR\")\n",
    "plt2 = plot!(Vrange,nI_OGD,label=\"ODG\")\n",
    "plt2 = plot!(Vrange,nI_tb,label=\"textbook\")\n",
    "#different peaks is a little funky, should be super easy to compare with exp data"
   ]
  },
  {
   "cell_type": "code",
   "execution_count": null,
   "id": "b4192714-baa8-44e9-bf92-39974f3d4697",
   "metadata": {},
   "outputs": [],
   "source": []
  }
 ],
 "metadata": {
  "kernelspec": {
   "display_name": "Julia 1.11.4",
   "language": "julia",
   "name": "julia-1.11"
  },
  "language_info": {
   "file_extension": ".jl",
   "mimetype": "application/julia",
   "name": "julia",
   "version": "1.11.4"
  }
 },
 "nbformat": 4,
 "nbformat_minor": 5
}
