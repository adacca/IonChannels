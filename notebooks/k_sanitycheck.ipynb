{
 "cells": [
  {
   "cell_type": "code",
   "execution_count": null,
   "id": "7b08e3ce-2f51-44c7-9225-6deb96b5b69b",
   "metadata": {},
   "outputs": [],
   "source": [
    "using DrWatson\n",
    "@quickactivate \"IonChannels\"\n",
    "\n",
    "using IonChannelTools\n",
    "include(srcdir(\"K5.jl\"))\n"
   ]
  },
  {
   "cell_type": "code",
   "execution_count": null,
   "id": "90543899-9d7d-48ad-b0f5-b5c3eb9d37b2",
   "metadata": {
    "scrolled": true
   },
   "outputs": [],
   "source": [
    "dt = 1e-3\n",
    "trange = [-2 10]\n",
    "tL = IonChannelTools.spike(200,dt) #spike\n",
    "mu0 = IonChannelTools.steadystate(Gmatrix,tL[1,2])\n",
    "dist = IonChannelTools.evolvedist(Gmatrix,tL[:,2],dt)\n"
   ]
  },
  {
   "cell_type": "code",
   "execution_count": null,
   "id": "14a3dcaf-e935-40dd-9f96-33ae50ae4601",
   "metadata": {
    "scrolled": true
   },
   "outputs": [],
   "source": [
    "qex = IonChannelTools.Qex(dist,Gmatrix,tL[:,2],dt)\n"
   ]
  },
  {
   "cell_type": "code",
   "execution_count": null,
   "id": "e82633a1-8f3b-46ca-8f74-73b17e6876e8",
   "metadata": {},
   "outputs": [],
   "source": [
    "plt1 = IonChannelTools.fxnprotplot(dist,tL[:,2],tL[:,1])\n",
    "using Plots\n",
    "plt1 = plot!(title=\"State distribution\")"
   ]
  },
  {
   "cell_type": "code",
   "execution_count": null,
   "id": "71b840c9-f99b-4f79-a176-09be42f9d3c0",
   "metadata": {},
   "outputs": [],
   "source": [
    "plt2 = IonChannelTools.fxnprotplot(qex,tL[:,2],tL[:,1])\n",
    "plt2 = plot!(title=\"excess heat dissipation\")"
   ]
  },
  {
   "cell_type": "code",
   "execution_count": null,
   "id": "ba980cc9-2eb2-409a-acbb-d247c2fa91eb",
   "metadata": {},
   "outputs": [],
   "source": [
    "dt = 1e-3\n",
    "tL45 = IonChannelTools.pulse([0 20],dt,[0,0,-45,0])\n",
    "d1 = IonChannelTools.evolvedist(Gmatrix,tL45[:,2],dt,IonChannelTools.steadystate(Gmatrix,-70)) #-70 mV is \"resting potential\"\n",
    "ss = Array{Float64}(undef,0,5)\n",
    "for i in 1:size(tL45,1)\n",
    "    ss = [ss; IonChannelTools.steadystate(Gmatrix,tL45[i,2])]\n",
    "end #all steady states\n",
    "plt3 = IonChannelTools.fxnprotplot(d1-ss,tL45[:,2],tL45[:,1]) #difference of dist from steady state\n",
    "plt3 = plot!(title=\"difference from steady state dist.\")"
   ]
  },
  {
   "cell_type": "code",
   "execution_count": null,
   "id": "18729374-9681-486b-ad57-6719b3fb362c",
   "metadata": {},
   "outputs": [],
   "source": [
    "dt = 1e-3\n",
    "tL30 = IonChannelTools.pulse([0 20],dt,[0,0,-70,-30])\n",
    "d1 = IonChannelTools.evolvedist(Gmatrix,tL30[:,2],dt,IonChannelTools.steadystate(Gmatrix,-30)) #-70 mV is \"resting potential\"\n",
    "ss = Array{Float64}(undef,0,5)\n",
    "for i in 1:size(tL30,1)\n",
    "    ss = [ss; IonChannelTools.steadystate(Gmatrix,tL30[i,2])]\n",
    "end #all steady states\n",
    "IonChannelTools.fxnprotplot(d1-ss,tL30[:,2],tL30[:,1]) #difference of dist from steady state"
   ]
  },
  {
   "cell_type": "code",
   "execution_count": null,
   "id": "04c23264-4e86-4d6e-bb8b-726ae82965cf",
   "metadata": {},
   "outputs": [],
   "source": []
  }
 ],
 "metadata": {
  "kernelspec": {
   "display_name": "Julia 1.11.4",
   "language": "julia",
   "name": "julia-1.11"
  },
  "language_info": {
   "file_extension": ".jl",
   "mimetype": "application/julia",
   "name": "julia",
   "version": "1.11.4"
  }
 },
 "nbformat": 4,
 "nbformat_minor": 5
}
