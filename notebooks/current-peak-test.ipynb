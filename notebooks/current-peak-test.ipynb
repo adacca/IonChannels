{
 "cells": [
  {
   "cell_type": "code",
   "execution_count": null,
   "id": "c643d30f-b437-4734-b945-391fa80ba98e",
   "metadata": {},
   "outputs": [],
   "source": [
    "using DrWatson\n",
    "@quickactivate\n",
    "\n",
    "using IonChannelTools"
   ]
  },
  {
   "cell_type": "code",
   "execution_count": null,
   "id": "adf87a84-a5ba-4c96-9fce-37d4ccd2ee5f",
   "metadata": {},
   "outputs": [],
   "source": [
    "include(srcdir(\"KBZR-OGD.jl\"))"
   ]
  },
  {
   "cell_type": "code",
   "execution_count": null,
   "id": "b6adc630-33f3-4f5f-a53d-76f339a7817f",
   "metadata": {},
   "outputs": [],
   "source": [
    "mu0 = [1 0 0 0]\n",
    "t = 20\n",
    "V = -40\n",
    "using LinearAlgebra\n",
    "\n",
    "#function quick_evolve(G,t,mu0)\n",
    "#   return mu0*exp(t*G)\n",
    "#end\n",
    "\n",
    "IonChannelTools.quick_evolve(Gmatrix(V),t,mu0)"
   ]
  },
  {
   "cell_type": "code",
   "execution_count": null,
   "id": "f963cf39-4866-4780-8fdb-66adf54e1594",
   "metadata": {},
   "outputs": [],
   "source": [
    "tL = IonChannelTools.pulse([0 20],1e-3,[0 0 -40 -40])\n",
    "IonChannelTools.evolvedist(Gmatrix,tL[:,2],1e-3,mu0)[end,:]"
   ]
  },
  {
   "cell_type": "markdown",
   "id": "e69386c3-c790-430b-b362-fb6a7623831d",
   "metadata": {},
   "source": [
    "so this stuff works just fine"
   ]
  },
  {
   "cell_type": "markdown",
   "id": "61a187c0-fc61-4a4c-adde-9c6c51c61d11",
   "metadata": {},
   "source": [
    "BZR uses pulses: starting at ss -90, (-60 +60) for 5s, -40\n",
    "\n",
    "graphs relative mag of peak p2 current vs p1 voltage"
   ]
  },
  {
   "cell_type": "code",
   "execution_count": null,
   "id": "616dbb6b-b0a0-44e0-9dad-13ebb9b4ca3d",
   "metadata": {
    "scrolled": true
   },
   "outputs": [],
   "source": [
    "V0 = -90 #initial holding voltage (in mV)\n",
    "P1 = -60:5:60 #range of P1 values, in steps of 20mV\n",
    "#took about 20min to run with step length of 10mv\n",
    "P2 = -40 #voltage after pulse\n",
    "\n",
    "t1 = 5*1e3 #time at P1 voltage in ms (5s)\n",
    "t2 = 50 #time at p2 voltage, just enough to get peak I\n",
    "dt = 1e-3\n",
    "\n",
    "#starting dist, V0 holding voltage steady state\n",
    "mu0 = IonChannelTools.steadystate(Gmatrix,V0)\n",
    "\n",
    "Is1 = Array{Matrix}(undef,1,length(P1))\n",
    "#loop over all P1 values\n",
    "for i in 1:length(P1)\n",
    "    #use direct solution to get end-P1 distribution\n",
    "    mu1 = IonChannelTools.quick_evolve(Gmatrix(P1[i]),t1,mu0)\n",
    "\n",
    "    #have to use iterated method for P2 to pick out max I value, but not a lot of time needed\n",
    "    L = fill(P2,Int(t2/dt))\n",
    "    dist = IonChannelTools.evolvedist(Gmatrix,L,dt,mu1)\n",
    "    Is1[i] = IonChannelTools.I_avg(L,-80,dist,[0 0 1 0])\n",
    "end\n",
    "\n",
    "Is1"
   ]
  },
  {
   "cell_type": "code",
   "execution_count": null,
   "id": "8cbd2bd5-e596-49a8-86d4-d728fb1c3743",
   "metadata": {},
   "outputs": [],
   "source": [
    "using Plots\n",
    "plt1 = plot(title=\"P2 current for OGD\")\n",
    "for I in Is1\n",
    "    plt1 = plot!(0:dt:t2-dt,abs.(I))\n",
    "end\n",
    "plt1"
   ]
  },
  {
   "cell_type": "code",
   "execution_count": null,
   "id": "1c97d091-f4a2-4e3f-abe5-dca42ddb3828",
   "metadata": {},
   "outputs": [],
   "source": [
    "peak1 = Array{Float64}(undef,length(P1),1)\n",
    "for i in 1:length(P1)\n",
    "    #=\n",
    "    if Is1[i][2]<Is1[i][1]\n",
    "        peak1[i] = minimum(Is1[i])\n",
    "    else\n",
    "        peak1[i] = maximum(Is1[i])\n",
    "    end =#\n",
    "    peak1[i] = maximum(Is1[i])\n",
    "\n",
    "end\n",
    "peak1 /= maximum(peak1)"
   ]
  },
  {
   "cell_type": "code",
   "execution_count": null,
   "id": "b767cb07-0da5-4eb4-912c-8a59ab671b40",
   "metadata": {
    "scrolled": true
   },
   "outputs": [],
   "source": [
    "include(srcdir(\"KBZR-WLMSR.jl\"))\n",
    "\n",
    "t2 = 150 #time at p2 voltage, just enough to get peak I\n",
    "#this model is so slow I need lots of time to ensure it's peaked\n",
    "\n",
    "#starting dist, V0 holding voltage steady state\n",
    "mu0 = IonChannelTools.steadystate(Gmatrix,V0)\n",
    "\n",
    "Is2 = Array{Matrix}(undef,1,length(P1))\n",
    "#loop over all P1 values\n",
    "for i in 1:length(P1)\n",
    "    #use direct solution to get end-P1 distribution\n",
    "    mu1 = IonChannelTools.quick_evolve(Gmatrix(P1[i]),t1,mu0)\n",
    "\n",
    "    #have to use iterated method for P2 to pick out max I value, but not a lot of time needed\n",
    "    L = fill(P2,Int(t2/dt))\n",
    "    dist = IonChannelTools.evolvedist(Gmatrix,L,dt,mu1)\n",
    "    Is2[i] = IonChannelTools.I_avg(L,-80,dist,[0 0 0 1 0])\n",
    "end\n",
    "\n",
    "Is2"
   ]
  },
  {
   "cell_type": "code",
   "execution_count": null,
   "id": "85239a96-6f81-43d6-9ebd-befab1dfb265",
   "metadata": {},
   "outputs": [],
   "source": [
    "using Plots\n",
    "plt2 = plot(title=\"P2 current for WLMSR\")\n",
    "for I in Is2\n",
    "    plt2 = plot!(0:dt:t2-dt,abs.(I))\n",
    "end\n",
    "plt2"
   ]
  },
  {
   "cell_type": "code",
   "execution_count": null,
   "id": "937a6de4-3092-41e3-ab7d-26b918ed32c8",
   "metadata": {},
   "outputs": [],
   "source": [
    "peak2 = Array{Float64}(undef,length(P1),1)\n",
    "for i in 1:length(P1)\n",
    "    #=\n",
    "    if Is2[i][2]<Is2[i][1]\n",
    "        peak2[i] = minimum(Is2[i])\n",
    "    else\n",
    "        peak2[i] = maximum(Is2[i])\n",
    "    end =#\n",
    "    peak2[i] = maximum(Is2[i])\n",
    "\n",
    "end\n",
    "peak2 /= maximum(peak2)"
   ]
  },
  {
   "cell_type": "code",
   "execution_count": null,
   "id": "316ee21d-baa0-4a59-adba-e8ffb52a9686",
   "metadata": {
    "scrolled": true
   },
   "outputs": [],
   "source": [
    "include(srcdir(\"KBZR-MGWMN.jl\"))\n",
    "\n",
    "t2 = 100 #time at p2 voltage, just enough to get peak I\n",
    "\n",
    "#starting dist, V0 holding voltage steady state\n",
    "mu0 = IonChannelTools.steadystate(Gmatrix,V0)\n",
    "\n",
    "Is3 = Array{Matrix}(undef,1,length(P1))\n",
    "#loop over all P1 values\n",
    "for i in 1:length(P1)\n",
    "    #use direct solution to get end-P1 distribution\n",
    "    mu1 = IonChannelTools.quick_evolve(Gmatrix(P1[i]),t1,mu0)\n",
    "\n",
    "    #have to use iterated method for P2 to pick out max I value, but not a lot of time needed\n",
    "    L = fill(P2,Int(t2/dt))\n",
    "    dist = IonChannelTools.evolvedist(Gmatrix,L,dt,mu1)\n",
    "    Is3[i] = IonChannelTools.I_avg(L,-80,dist,[0 0 0 1 0])\n",
    "end\n",
    "\n",
    "Is3"
   ]
  },
  {
   "cell_type": "code",
   "execution_count": null,
   "id": "58d4c855-d1b9-4199-8276-69b51ad70e10",
   "metadata": {},
   "outputs": [],
   "source": [
    "plt3 = plot(title=\"P2 current for MGWMN\")\n",
    "for I in Is3\n",
    "    plt3 = plot!(0:dt:t2-dt,abs.(I))\n",
    "end\n",
    "plt3"
   ]
  },
  {
   "cell_type": "code",
   "execution_count": null,
   "id": "a942ff33-7bb4-49b6-a5b5-15d498279ccd",
   "metadata": {},
   "outputs": [],
   "source": [
    "peak3 = Array{Float64}(undef,length(P1),1)\n",
    "for i in 1:length(P1)\n",
    "    #=\n",
    "    if Is2[i][2]<Is2[i][1]\n",
    "        peak2[i] = minimum(Is2[i])\n",
    "    else\n",
    "        peak2[i] = maximum(Is2[i])\n",
    "    end =#\n",
    "    peak3[i] = maximum(Is3[i])\n",
    "\n",
    "end\n",
    "peak3 /= maximum(peak3)"
   ]
  },
  {
   "cell_type": "code",
   "execution_count": null,
   "id": "58d6b998-bcad-4489-a7c5-4548916b3570",
   "metadata": {
    "scrolled": true
   },
   "outputs": [],
   "source": [
    "include(srcdir(\"KBZR-CR.jl\"))\n",
    "\n",
    "t2 = 50 #time at p2 voltage, just enough to get peak I\n",
    "#this model is so slow I need lots of time to ensure it's peaked\n",
    "\n",
    "#starting dist, V0 holding voltage steady state\n",
    "mu0 = IonChannelTools.steadystate(Gmatrix,V0)\n",
    "\n",
    "Is4 = Array{Matrix}(undef,1,length(P1))\n",
    "#loop over all P1 values\n",
    "for i in 1:length(P1)\n",
    "    #use direct solution to get end-P1 distribution\n",
    "    mu1 = IonChannelTools.quick_evolve(Gmatrix(P1[i]),t1,mu0)\n",
    "\n",
    "    #have to use iterated method for P2 to pick out max I value, but not a lot of time needed\n",
    "    L = fill(P2,Int(t2/dt))\n",
    "    dist = IonChannelTools.evolvedist(Gmatrix,L,dt,mu1)\n",
    "    Is4[i] = IonChannelTools.I_avg(L,-80,dist,[0 0 0 1 0])\n",
    "end\n",
    "\n",
    "Is4"
   ]
  },
  {
   "cell_type": "code",
   "execution_count": null,
   "id": "0f7e38fd-9ca0-479e-b0ac-8539e185fed9",
   "metadata": {},
   "outputs": [],
   "source": [
    "plt4 = plot(title=\"P2 current for CR\")\n",
    "for I in Is4\n",
    "    plt4 = plot!(0:dt:t2-dt,abs.(I))\n",
    "end\n",
    "plt4"
   ]
  },
  {
   "cell_type": "code",
   "execution_count": null,
   "id": "c800289c-19cc-4d4c-afdd-686e76a3e15c",
   "metadata": {},
   "outputs": [],
   "source": [
    "peak4 = Array{Float64}(undef,length(P1),1)\n",
    "for i in 1:length(P1)\n",
    "    #=\n",
    "    if Is2[i][2]<Is2[i][1]\n",
    "        peak2[i] = minimum(Is2[i])\n",
    "    else\n",
    "        peak2[i] = maximum(Is2[i])\n",
    "    end =#\n",
    "    peak4[i] = maximum(Is4[i])\n",
    "\n",
    "end\n",
    "peak4 /= maximum(peak4)"
   ]
  },
  {
   "cell_type": "code",
   "execution_count": null,
   "id": "29772a9e-b7d4-4c9b-994b-13c85369e5bb",
   "metadata": {},
   "outputs": [],
   "source": [
    "pltP = plot(title=\"relative peak current in p2\",xlabel=\"p1 voltage [mV]\")\n",
    "pltP = plot!(P1,[peak1 peak2 peak3 peak4],mc=[:red :blue :green :purple],label=[\"OGD\" \"WLMSR\" \"MGWMN\" \"CR\"])"
   ]
  },
  {
   "cell_type": "markdown",
   "id": "2bd4ef23-2303-4044-94e8-a42da16da449",
   "metadata": {},
   "source": []
  }
 ],
 "metadata": {
  "kernelspec": {
   "display_name": "Julia 1.11.4",
   "language": "julia",
   "name": "julia-1.11"
  },
  "language_info": {
   "file_extension": ".jl",
   "mimetype": "application/julia",
   "name": "julia",
   "version": "1.11.4"
  }
 },
 "nbformat": 4,
 "nbformat_minor": 5
}
