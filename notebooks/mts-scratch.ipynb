{
 "cells": [
  {
   "cell_type": "code",
   "execution_count": 1,
   "id": "3430e8f4",
   "metadata": {},
   "outputs": [
    {
     "data": {
      "text/plain": [
       "param"
      ]
     },
     "metadata": {},
     "output_type": "display_data"
    }
   ],
   "source": [
    "using DrWatson\n",
    "@quickactivate\n",
    "\n",
    "using ExponentialAction\n",
    "using Roots\n",
    "\n",
    "# Want to have different names.\n",
    "# Don't like this reuse of the function name Gmatrix.\n",
    "\n",
    "include(srcdir(\"KBZR-CR.jl\"))\n",
    "#G_KBZR_CR(v) = Gmatrix(v)\n",
    "\n",
    "#include(srcdir(\"KBZR-OGD.jl\"))\n",
    "#function G_KBZR_OGD(v) = Gmatrix(v)\n",
    "\n",
    "#include(srcdir(\"KBZR-WLMSR.jl\"))\n",
    "#function G_KBZR_WLMSR(v) = Gmatrix(v)\n",
    "\n",
    "#include(srcdir(\"KBZR-MGWMN.jl\"))\n",
    "#G_KBZR_MGWMN(v) = Gmatrix(v)"
   ]
  },
  {
   "cell_type": "markdown",
   "id": "e4132542",
   "metadata": {},
   "source": [
    "# Hunting for Maximum Current as Easily as Possible\n",
    "Suppose we have a continuous-time, discrete-state Markov chain model of a voltage-gated ion channel. Let $v$ be the transmembrane voltage and $\\mathbf{G}_v$ an irreducible voltage-dependent transition rate matrix (the irreducibility gives us a unique stationary distribution). Let us fix voltage for all times $t > 0$ and suppose an initial state distribution $\\left\\langle \\mu_0 \\right|$. The expected current at time $t$ goes like\n",
    "\n",
    "$\\qquad \\displaystyle\n",
    "    \\left\\langle I(t) \\right \\rangle \\propto \\left \\langle \\mu(t) \\mid \\delta_\\mathrm{O} \\right \\rangle\n",
    "$\n",
    "\n",
    "$\\qquad \\displaystyle \\phantom{\\left\\langle I(t) \\right \\rangle} =\n",
    "    \\left\\langle{\\mu_0} \\right| \\mathrm{e}^{t\\mathbf{G}_{v}} \\left| \\delta_\\mathrm{O} \\right\\rangle\n",
    "$,\n",
    "\n",
    "where $\\delta_\\mathrm{O}$ is the index corresponding to the \"open\" state and $\\left| \\delta_\\mathrm{O} \\right\\rangle$ is $1$ at that index and zero elsewhere. \n",
    "\n",
    "We wish to find $t>0$ that (locally) maximizes $\\left\\langle I(t) \\right \\rangle$. Naturally we want to take a time derivative and set it to $0$:\n",
    "\n",
    "$\\qquad \\displaystyle\n",
    "\\frac{\\mathrm{d}}{\\mathrm{d}t} \\left\\langle I(t) \\right \\rangle \\phantom{=}\\hspace{-0.8em}\\propto\n",
    "    \\left\\langle{\\mu_0} \\right| \\frac{\\mathrm{d}}{\\mathrm{d}t}\\mathrm{e}^{t\\mathbf{G}_{v}} \\left| \\delta_\\mathrm{O} \\right\\rangle\n",
    "$\n",
    "\n",
    "$\\qquad \\displaystyle\n",
    "\\phantom{\\frac{\\mathrm{d}}{\\mathrm{d}t} \\left\\langle I(t) \\right \\rangle \\propto}\\hspace{-0.8em} =\n",
    "    \\left\\langle{\\mu_0} \\right| \\mathrm{e}^{t\\mathbf{G}_{v}} \\mathbf{G}_v \\left| \\delta_\\mathrm{O} \\right\\rangle\n",
    "$\n",
    "\n",
    "$\\qquad \\displaystyle\n",
    "\\phantom{\\frac{\\mathrm{d}}{\\mathrm{d}t} \\left\\langle I(t) \\right \\rangle \\propto}\\hspace{-0.8em} =\n",
    "    {\\large\\langle} \\mu_0 {\\large|} \\mathrm{e}^{t\\mathbf{G}_{v}} {\\large|} {\\mathbf{G}_v}_{[:,\\delta_\\mathrm{O}]}  {\\large \\rangle}\n",
    "$,\n",
    "\n",
    "where $i$ is in the state index. The first equality holds by definition of the matrix exponential (as the solution to a matrix ODE) and commutativity of a matrix with its scaled exponential; the second exploits the associativity of matrix multiplication and the fact that $\\mathbf{G}_v \\left| \\delta_\\text{O}\\right\\rangle$ is simply the column vector whose elements are entries of $\\mathbf{G}_v$'s $\\delta_\\text{O}$-th column.\n"
   ]
  },
  {
   "cell_type": "markdown",
   "id": "089f1ea7",
   "metadata": {},
   "source": [
    "Now I want to write a function for finding the zeros..."
   ]
  },
  {
   "cell_type": "code",
   "execution_count": null,
   "id": "9ba4c0ef",
   "metadata": {},
   "outputs": [
    {
     "data": {
      "text/plain": [
       "5×5 Matrix{Float64}:\n",
       " -0.0336879    0.0336879   0.0           0.0         0.0\n",
       "  0.00211198  -2.17411     2.172         0.0         0.0\n",
       "  0.0          1.077      -1.098         0.0105012   0.0105012\n",
       "  0.0          0.0         0.00275166   -0.660608    0.657856\n",
       "  0.0          0.0         0.000950429   0.227225   -0.228175"
      ]
     },
     "metadata": {},
     "output_type": "display_data"
    }
   ],
   "source": [
    "\"\"\"\n",
    "    max_current_time(G, u0, I_index) -> t\n",
    "\n",
    "Find the time `t` at which evolution according to a rate matrix `G` from initial state distribution `u0` maximizes `u(t)[I_index]`. \n",
    "\"\"\"\n",
    "function max_current_time(G, u0, I_index)\n",
    "\n",
    "end"
   ]
  },
  {
   "cell_type": "markdown",
   "id": "63da1156",
   "metadata": {},
   "source": [
    "## Directions\n",
    "* Numerics: create a Julia function that takes in\n",
    "    1. A \"time\" (difference) $x$,\n",
    "    1. The rate matrix $\\mathbf{G}$,\n",
    "    1. The index $i$ of an arbitrary row/column \n",
    "    1. The index $\\delta_\\mathrm{O}$ of the row/column corresponding to the open state\n",
    "    \n",
    "    and returns $[\\mathrm{e}^{x\\mathbf{G}}]_{i\\delta_\\mathrm{O}}$. \n",
    "    \n",
    "    If $\\left \\langle \\mu_0 \\right|$ has strictly positive elements (which we can set up, and which will certainly be true of any \"real\" $\\left \\langle \\mu(t) \\right|$ for irreducible $\\mathbf{G}$, which we expect most of the time and require for a unique stationary distribution) then $\\left\\langle I(t) \\right \\rangle = 0$ only if $\\frac{\\mathrm{d}}{\\mathrm{d}t}[\\mathrm{e}^{x\\mathbf{G}}]_{i\\delta_\\mathrm{O}} = 0$ **for each $i$ in the state index**.\n",
    "\n",
    "    So, via the Julia function specified above, we can try to just numerically probe maxima/minima of one $i$ at a time, knowing that the local minimum we're after must correspond to a local max, min, or flat region for each $i$ simultaneously. We can use that to narrow down the right \"regime\" of times to look for and so save simulation time when hunting for these current maxima numerically.\n",
    "\n",
    "* Analytics: see if we can write down a closed-form expression for the matrix exponential in terms of its spectra a-la Paul's [\"Beyond the Spectral Theorem\"](https://www.doi.org/10.1063/1.5040705). My first brute-force idea is to take the expression of powers of a matrix and substitute it into the power series for the matrix exponential. But my suspicion is that if Paul didn't already do this, it's either a dead end or a paper in itself. I (Mikhael) will ping him."
   ]
  },
  {
   "cell_type": "code",
   "execution_count": null,
   "id": "d0dd07f0",
   "metadata": {},
   "outputs": [],
   "source": []
  },
  {
   "cell_type": "code",
   "execution_count": null,
   "id": "3dfb7b3a",
   "metadata": {},
   "outputs": [],
   "source": []
  },
  {
   "cell_type": "markdown",
   "id": "d6b1d6ba",
   "metadata": {},
   "source": []
  }
 ],
 "metadata": {
  "kernelspec": {
   "display_name": "Julia 1.11.5",
   "language": "julia",
   "name": "julia-1.11"
  },
  "language_info": {
   "file_extension": ".jl",
   "mimetype": "application/julia",
   "name": "julia",
   "version": "1.11.5"
  }
 },
 "nbformat": 4,
 "nbformat_minor": 5
}
