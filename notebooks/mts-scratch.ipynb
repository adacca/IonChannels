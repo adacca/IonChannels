{
 "cells": [
  {
   "cell_type": "code",
   "execution_count": 5,
   "id": "3430e8f4",
   "metadata": {},
   "outputs": [],
   "source": [
    "using DrWatson\n",
    "@quickactivate"
   ]
  },
  {
   "cell_type": "markdown",
   "id": "e4132542",
   "metadata": {},
   "source": [
    "# Hunting for Maximum Current as Easily as Possible\n",
    "\n",
    "For fixed voltage, we have that expected current should be proportional to the expectation of being in the open state at time $t$:\n",
    "\n",
    "$\\qquad \\displaystyle\n",
    "    \\left\\langle I(t) \\right \\rangle \\propto \\left \\langle \\mu(t) \\mid \\delta_\\mathrm{O} \\right \\rangle\n",
    "$\n",
    "\n",
    "$\\qquad \\displaystyle \\phantom{\\left\\langle I(t) \\right \\rangle} =\n",
    "    \\left\\langle{\\mu_0} \\right| k \\mathrm{e}^{(t - \\tau)\\mathbf{G}_{v}} \\left| \\delta_\\mathrm{O} \\right\\rangle\n",
    "$\n",
    "\n",
    "$\\qquad \\displaystyle \\phantom{\\left\\langle I(t) \\right \\rangle} =\n",
    "    k\\sum_i [\\mu_0]_i \\, [\\mathrm{e}^{(t - \\tau)\\mathbf{G}_{v}}]_{i\\delta_\\mathrm{O}}\n",
    "$,\n",
    "\n",
    "where $\\delta_\\mathrm{O}$ is the index corresponding to the \"open\" state, $\\tau$ is the time at which we switched to a fixed voltage $v$, and $k$ captures all the evolution up to time $\\tau$. We wish to *maximize* this function by varying $t > \\tau$. \n",
    "\n",
    "So, let's differentiate with respect to $t$ and set the result to $0$:\n",
    "\n",
    "$\\qquad \\displaystyle\n",
    "\\frac{\\mathrm{d}}{\\mathrm{d}t} \\left\\langle I(t) \\right \\rangle \\propto \n",
    "    k\\sum_i [\\mu_0]_i \\, \\frac{\\mathrm{d}}{\\mathrm{d}t} [\\mathrm{e}^{(t - \\tau)\\mathbf{G}_{v}}]_{i\\delta_\\mathrm{O}} = 0\n",
    "$,\n",
    "\n",
    "where we can take the derivative inside without issue since we're dealing with a finite sum. But now the issue is we're taking the derivative of an element of a matrix determined from an infinite sum.\n",
    "\n",
    "## Directions\n",
    "* Numerics: create a Julia function that takes in\n",
    "    1. A \"time\" (difference) $x$,\n",
    "    1. The rate matrix $\\mathbf{G}$,\n",
    "    1. The index $i$ of an arbitrary row/column \n",
    "    1. The index $\\delta_\\mathrm{O}$ of the row/column corresponding to the open state\n",
    "    \n",
    "    and returns $[\\mathrm{e}^{x\\mathbf{G}}]_{i\\delta_\\mathrm{O}}$. \n",
    "    \n",
    "    If $\\left \\langle \\mu_0 \\right|$ has strictly positive elements (which we can set up, and which will certainly be true of any \"real\" $\\left \\langle \\mu(t) \\right|$ for irreducible $\\mathbf{G}$, which we expect most of the time and require for a unique stationary distribution) then $\\left\\langle I(t) \\right \\rangle = 0$ only if $\\frac{\\mathrm{d}}{\\mathrm{d}t}[\\mathrm{e}^{x\\mathbf{G}}]_{i\\delta_\\mathrm{O}} = 0$ **for each $i$ in the state index**.\n",
    "\n",
    "    So, via the Julia function specified above, we can try to just numerically probe maxima/minima of one $i$ at a time, knowing that the local minimum we're after must correspond to a local max, min, or flat region for each $i$ simultaneously."
   ]
  },
  {
   "cell_type": "code",
   "execution_count": null,
   "id": "d0dd07f0",
   "metadata": {},
   "outputs": [],
   "source": []
  },
  {
   "cell_type": "code",
   "execution_count": null,
   "id": "3dfb7b3a",
   "metadata": {},
   "outputs": [],
   "source": []
  },
  {
   "cell_type": "markdown",
   "id": "d6b1d6ba",
   "metadata": {},
   "source": []
  }
 ],
 "metadata": {
  "kernelspec": {
   "display_name": "Julia 1.11.5",
   "language": "julia",
   "name": "julia-1.11"
  },
  "language_info": {
   "file_extension": ".jl",
   "mimetype": "application/julia",
   "name": "julia",
   "version": "1.11.5"
  }
 },
 "nbformat": 4,
 "nbformat_minor": 5
}
