{
 "cells": [
  {
   "cell_type": "code",
   "execution_count": null,
   "id": "d07b6158-5428-4b34-b04b-cb5557cdb126",
   "metadata": {},
   "outputs": [],
   "source": [
    "using DrWatson\n",
    "@quickactivate\n",
    "\n",
    "using IonChannelTools, Plots\n",
    "\n",
    "include(srcdir(\"Na9.jl\"))"
   ]
  },
  {
   "cell_type": "code",
   "execution_count": null,
   "id": "2c5e379b-8fdc-445d-926a-59c17d240565",
   "metadata": {},
   "outputs": [],
   "source": [
    "dt = 1e-3 #time step in ms"
   ]
  },
  {
   "cell_type": "code",
   "execution_count": null,
   "id": "8cb92404-c619-4c2d-8d97-c3e1da3bd1e1",
   "metadata": {},
   "outputs": [],
   "source": [
    "tL45 = IonChannelTools.pulse([0 20],dt,[0,0,-45,0])\n",
    "d1 = IonChannelTools.evolvedist(Gmatrix,tL45[:,2],dt,IonChannelTools.steadystate(Gmatrix,-70)) #-70 mV is \"resting potential\"\n",
    "ss = Array{Float64}(undef,0,9)\n",
    "for i in 1:size(tL45,1)\n",
    "    ss = [ss; IonChannelTools.steadystate(Gmatrix,tL45[i,2])]\n",
    "end #all steady states\n",
    "dss45 = IonChannelTools.fxnprotplot(d1-ss,tL45[:,2],tL45[:,1]) #difference of dist from steady state\n",
    "dss45 = title!(\"distance from ss -45mV\")"
   ]
  },
  {
   "cell_type": "code",
   "execution_count": null,
   "id": "305e9ea7-24d1-4235-a34f-2b01465d8632",
   "metadata": {},
   "outputs": [],
   "source": [
    "q45 = IonChannelTools.fxnprotplot(IonChannelTools.Qex(d1,Gmatrix,tL45[:,2],dt),tL45[:,2],tL45[:,1])\n",
    "q45 = Plots.title!(\"Qex for -45mV\")"
   ]
  },
  {
   "cell_type": "code",
   "execution_count": null,
   "id": "7a8089d1-b47f-4c1e-b588-a454d57ce021",
   "metadata": {},
   "outputs": [],
   "source": [
    "#their S_tot entropy calculation\n",
    "\n",
    "#for a single t\n",
    "#function S_tot(Gmatrix, V, k, dist)\n",
    "function S_tot(G,dist)\n",
    "    #G as actual matrix with values, dist is single row values \n",
    "    S_t = 0\n",
    "#    len = length(Gmatrix(0)[1,:]) #side dimension of matrix\n",
    "    len = length(G[1,:]) #side dimension of matrix\n",
    "    for i in 1:len\n",
    "        for j in 1:len\n",
    "#            G = Gmatrix(V)\n",
    "            #kB/2 * sum( (q_ij(V)*p_i - q_ji(V)*p_j)*ln(q_ij/q_ji)\n",
    "            s1 = (G[i,j]*dist[i]-G[j,i]*dist[j])\n",
    "            s2 = log(abs((G[i,j]*dist[i])/(G[j,i]*dist[j])))\n",
    "            if isnan(s2)\n",
    "                s2 = 0\n",
    "            end\n",
    "            s = s1*s2\n",
    "            S_t += s\n",
    "        end\n",
    "    end\n",
    "    return S_t\n",
    "end\n",
    "\n",
    "function S_med(G,dist)\n",
    "    #G as actual matrix with values, dist is single row values \n",
    "    S_m = 0\n",
    "    len = length(G[1,:]) #side dimension of matrix\n",
    "    for i in 1:len\n",
    "        for j in 1:len\n",
    "#            G = Gmatrix(V)\n",
    "            #kB/2 * sum( (q_ij(V)*p_i - q_ji(V)*p_j)*ln(q_ij/q_ji)\n",
    "            s1 = (G[i,j]*dist[i]-G[j,i]*dist[j])\n",
    "            s2 = log(abs((G[i,j])/(G[j,i])))\n",
    "            if isnan(s2)\n",
    "                s2 = 0\n",
    "            end\n",
    "            s = s1*s2\n",
    "            S_m += s\n",
    "        end\n",
    "    end\n",
    "    return S_m\n",
    "end\n",
    "\n",
    "function S_sys(G,dist)\n",
    "    #G as actual matrix with values, dist is single row values \n",
    "    S_s = 0\n",
    "#    len = length(Gmatrix(0)[1,:]) #side dimension of matrix\n",
    "    len = length(G[1,:]) #side dimension of matrix\n",
    "    for i in 1:len\n",
    "        for j in 1:len\n",
    "#            G = Gmatrix(V)\n",
    "            #kB/2 * sum( (q_ij(V)*p_i - q_ji(V)*p_j)*ln(q_ij/q_ji)\n",
    "            s1 = (G[i,j]*dist[i]-G[j,i]*dist[j])\n",
    "            s2 = log(abs((dist[i])/(dist[j])))\n",
    "            if isnan(s2)\n",
    "                s2 = 0\n",
    "            end\n",
    "            s = s1*s2\n",
    "            S_s += s\n",
    "        end\n",
    "    end\n",
    "    return S_s\n",
    "end\n",
    "\n",
    "t = 1 #time index\n",
    "#S_tot(Gmatrix, tL45[t,1], t, dist)\n",
    "\n",
    "S1 = []\n",
    "for t in 1:length(tL45[:,1])\n",
    "    append!(S1, S_tot(Gmatrix(-45),d1[t,:]))\n",
    "end"
   ]
  },
  {
   "cell_type": "code",
   "execution_count": null,
   "id": "35d7cf30-3b48-4bdf-906f-de3f9cf1a7a5",
   "metadata": {},
   "outputs": [],
   "source": [
    "tL30 = IonChannelTools.pulse([0 20],dt,[0,0,-30,0])\n",
    "d2 = IonChannelTools.evolvedist(Gmatrix,tL30[:,2],dt,IonChannelTools.steadystate(Gmatrix,-70)) #-70 mV is \"resting potential\"\n",
    "\n",
    "tL15 = IonChannelTools.pulse([0 20],dt,[0,0,15,0])\n",
    "d3 = IonChannelTools.evolvedist(Gmatrix,tL15[:,2],dt,IonChannelTools.steadystate(Gmatrix,-70)) #-70 mV is \"resting potential\"\n",
    "\n",
    "\n",
    "S2 = []\n",
    "for t in 1:length(tL30[:,1])\n",
    "    append!(S2, S_tot(Gmatrix(-30),d2[t,:]))\n",
    "end\n",
    "\n",
    "S3 = []\n",
    "for t in 1:length(tL15[:,1])\n",
    "    append!(S3, S_tot(Gmatrix(15),d3[t,:]))\n",
    "end"
   ]
  },
  {
   "cell_type": "code",
   "execution_count": null,
   "id": "bd06d89d-4928-4b3b-9128-8e63e9adff95",
   "metadata": {},
   "outputs": [],
   "source": [
    "S = plot(tL45[:,1],[S1 S2 S3],title=\"S_tot for -45mV, -30mV, 15mV\",ylimits=[0,5])"
   ]
  },
  {
   "cell_type": "code",
   "execution_count": null,
   "id": "84fa8965-eec2-45e7-a715-94d81bf23752",
   "metadata": {
    "scrolled": true
   },
   "outputs": [],
   "source": [
    "tL45l = IonChannelTools.pulse([0 200],dt,[0,0,-45,0])\n",
    "d1l = IonChannelTools.evolvedist(Gmatrix,tL45l[:,2],dt,IonChannelTools.steadystate(Gmatrix,-70)) #-70 mV is \"resting potential\"\n",
    "ssl = Array{Float64}(undef,0,9)\n",
    "for i in 1:size(tL45l,1)\n",
    "    ssl = [ssl; IonChannelTools.steadystate(Gmatrix,tL45l[i,2])]\n",
    "end #all steady states"
   ]
  },
  {
   "cell_type": "code",
   "execution_count": null,
   "id": "a367f495-c2e2-4a6f-82cf-a3c3748daf88",
   "metadata": {},
   "outputs": [],
   "source": [
    "dss45_long = IonChannelTools.fxnprotplot((d1l-ssl)[1:1000:end,:],tL45l[1:1000:end,2],tL45l[1:1000:end,1]) #difference of dist from steady state\n",
    "dss45_long = Plots.title!(\"distance from steady state -45mV, 200ms long\")"
   ]
  },
  {
   "cell_type": "markdown",
   "id": "2be314b3-6d1a-4524-90d3-528ab02ce25c",
   "metadata": {},
   "source": [
    "$$H[X] = -\\sum_{x \\in X} x\\log{x}$$"
   ]
  },
  {
   "cell_type": "code",
   "execution_count": null,
   "id": "1662a389-7568-421c-9271-a829af48f86e",
   "metadata": {},
   "outputs": [],
   "source": [
    "function H(mu)\n",
    "    #shannon entropy of state distribution mu, using nat log\n",
    "    h = 0\n",
    "    for x in mu\n",
    "        h-= x*log(x) #using nat log, could change?\n",
    "    end\n",
    "    return h\n",
    "end"
   ]
  },
  {
   "cell_type": "code",
   "execution_count": null,
   "id": "4197d9e5-888e-4f4f-8200-0b7799657347",
   "metadata": {},
   "outputs": [],
   "source": [
    "H_t = []\n",
    "for i in 1:length(d1[:,1])\n",
    "    append!(H_t, H(d1[i,:]))\n",
    "end\n",
    "H45 = plot(tL45[:,1],H_t)\n",
    "\n",
    "ssH = H(ss[1,:])\n",
    "maxH = H(fill(1/9,(1,9)))\n",
    "H45 = hline!([ssH maxH])\n",
    "H45 = title!(\"H[X], H[steady state], H[uniform dist]\")"
   ]
  },
  {
   "cell_type": "code",
   "execution_count": null,
   "id": "d52295a1-c52a-453b-a6f1-41b1552cbfba",
   "metadata": {},
   "outputs": [],
   "source": [
    "H_tl = []\n",
    "for i in 1:length(d1l[:,1])\n",
    "    append!(H_tl, H(d1l[i,:]))\n",
    "end\n",
    "H45l = plot(tL45l[:,1],H_tl)\n",
    "\n",
    "H45l = hline!([ssH maxH])\n",
    "H45l = title!(\"longer H[X], H[steady state], H[uniform dist]\")"
   ]
  },
  {
   "cell_type": "code",
   "execution_count": null,
   "id": "a5037c8f-ad71-4a69-890f-b826c0bcb2be",
   "metadata": {},
   "outputs": [],
   "source": [
    "function ddt(x,dt)\n",
    "    dx = Array{Float64}(undef,0,1)\n",
    "    for i in 1:length(x)-1\n",
    "        dx = [dx; (x[i+1]-x[i])/dt]\n",
    "    end\n",
    "    return dx\n",
    "end\n",
    "\n",
    "Q45 = IonChannelTools.Qex(d1,Gmatrix,tL45[:,2],dt)\n",
    "dq45 = ddt(Q45,dt)\n",
    "QH = dq45 + H_t[1:end-1]\n",
    "\n",
    "QH45 = plot(tL45[1:end-1,1],QH,title=\"dQex + H[X], and dS_tot\",label=\"dQ+H\",ylimits=[-1,5])\n",
    "QH45 = plot!(tL45[1:end-1,1],dq45,label=\"dQ\",linestyle=:dash)\n",
    "QH45 = plot!(tL45[:,1],H_t,label=\"H\",linestyle=:dash)\n",
    "QH45 = plot!(tL45[:,1],S1,label=\"dS_tot\")"
   ]
  },
  {
   "cell_type": "markdown",
   "id": "6140ac45-c30c-49ae-b7cd-a1c15492fa37",
   "metadata": {},
   "source": [
    "makes sense, H[X] doesn't decay so the sum can't decay, wouldn't match S_tot behavior"
   ]
  },
  {
   "cell_type": "code",
   "execution_count": null,
   "id": "fe8dfea0-2c5c-4f1f-a481-aa5efc26afb3",
   "metadata": {},
   "outputs": [],
   "source": [
    "#trying with time derivative of H\n",
    "\n",
    "QH2 = dq45 + ddt(H_t,dt)\n",
    "QH452 = plot(tL45[1:end-1,1],QH2,title=\"dQex + dH[X], and dS_tot\",label=\"dQ+H\",ylimits=[-1,2])\n",
    "QH452 = plot!(tL45[1:end-1,1],dq45,label=\"dQ\",linestyle=:dash)\n",
    "QH452 = plot!(tL45[1:end-1,1],ddt(H_t,dt),label=\"dH\",linestyle=:dash)\n",
    "QH452 = plot!(tL45[:,1],S1,label=\"dS_tot\")"
   ]
  },
  {
   "cell_type": "markdown",
   "id": "0852ad5b-1081-43a1-888b-6c1464072773",
   "metadata": {},
   "source": [
    "**trying a dynamic protocol again**"
   ]
  },
  {
   "cell_type": "code",
   "execution_count": null,
   "id": "835c2fd9-8a03-4d39-81ed-d150d92cf81f",
   "metadata": {
    "scrolled": true
   },
   "outputs": [],
   "source": [
    "dt = 1e-3\n",
    "tLrs = IonChannelTools.spike(200,dt,\"rs\")"
   ]
  },
  {
   "cell_type": "code",
   "execution_count": null,
   "id": "2f8abfbf-4d2b-4133-8a3f-df17ab923e84",
   "metadata": {},
   "outputs": [],
   "source": [
    "dist_rs = IonChannelTools.evolvedist(Gmatrix,tLrs[:,2],dt)\n",
    "Qrs = IonChannelTools.Qex(dist_rs,Gmatrix,tLrs[:,2],dt)\n",
    "\n",
    "#steady states\n",
    "ssrs = Array{Float64}(undef,0,9)\n",
    "for i in 1:size(tLrs,1)\n",
    "    ssrs = [ssrs; IonChannelTools.steadystate(Gmatrix,tLrs[i,2])]\n",
    "end\n",
    "\n",
    "#H for actual distribution\n",
    "H_rs = []\n",
    "for i in 1:length(dist_rs[:,1])\n",
    "    append!(H_rs, H(dist_rs[i,:]))\n",
    "end\n",
    "#H for hypothetical steady states\n",
    "H_rs_ss = []\n",
    "for i in 1:length(dist_rs[:,1])\n",
    "    append!(H_rs_ss, H(ssrs[i,:]))\n",
    "end"
   ]
  },
  {
   "cell_type": "code",
   "execution_count": null,
   "id": "df99998f-c1cf-493a-b44d-ec96d287f2af",
   "metadata": {},
   "outputs": [],
   "source": [
    "dSrs = []\n",
    "for i in 1:length(tLrs[:,1])\n",
    "    append!(dSrs, S_tot(Gmatrix(tLrs[i,2]),dist_rs[i,:]))\n",
    "end"
   ]
  },
  {
   "cell_type": "code",
   "execution_count": null,
   "id": "2a15d39a-aebc-45b5-baec-1ee39e5cb8e1",
   "metadata": {},
   "outputs": [],
   "source": [
    "#plot of H over protocol, with steady state H and max H\n",
    "pHrs = IonChannelTools.fxnprotplot(H_rs,tLrs[:,2],tLrs[:,1])\n",
    "pHrs = title!(\"H[X] with rs protocol\")\n",
    "pHrs = plot!(tLrs[:,1],H_rs_ss, label=\"H[ss]\")\n",
    "pHrs = hline!([maxH],label=\"max H\")"
   ]
  },
  {
   "cell_type": "code",
   "execution_count": null,
   "id": "84d69f3f-6a7d-4475-a5fb-a5478010b470",
   "metadata": {},
   "outputs": [],
   "source": [
    "pQrs = IonChannelTools.fxnprotplot(Qrs,tLrs[:,2],tLrs[:,1])\n",
    "pQrs = title!(\"Qex for rs\")"
   ]
  },
  {
   "cell_type": "code",
   "execution_count": null,
   "id": "1198f7d5-5436-4e26-91e3-cf65b0126b1d",
   "metadata": {},
   "outputs": [],
   "source": [
    "pdQrs = plot(tLrs[1:end-1,1],ddt(H_rs,dt)+ddt(Qrs,dt),label=\"dQ+dH\",ylimits=[-.5,.5])\n",
    "pdQrs = title!(\"dQex+dH, S_tot\")\n",
    "pdQrs = plot!(tLrs[1:end-1,1],ddt(H_rs,dt),label=\"dH\",linestyle=:dash)\n",
    "pdQrs = plot!(tLrs[1:end-1,1],ddt(Qrs,dt),label=\"dQ\",linestyle=:dash)\n",
    "pdQrs = plot!(tLrs[:,1],dSrs,label=\"dS_tot\")"
   ]
  },
  {
   "cell_type": "code",
   "execution_count": null,
   "id": "ff88ccbb-37c5-4f0f-b129-7369267c6bc5",
   "metadata": {
    "scrolled": true
   },
   "outputs": [],
   "source": [
    "function S_array(S_x,Gmatrix,L,dist)\n",
    "    S = []\n",
    "    for i in 1:length(L)\n",
    "        append!(S, S_x(Gmatrix(L[i]),dist[i,:]))\n",
    "    end\n",
    "    return S\n",
    "end\n",
    "\n",
    "S_s = S_array(S_sys,Gmatrix,tL45[:,2],d1) #system epr -45 mV\n",
    "S_m = S_array(S_med,Gmatrix,tL45[:,2],d1) #med epr -45 mV"
   ]
  },
  {
   "cell_type": "code",
   "execution_count": null,
   "id": "db53a0aa-ca29-43a0-848e-8bb11064f9ac",
   "metadata": {},
   "outputs": [],
   "source": [
    "S_check = plot(tL45[:,1],(S_s.+S_m), label=\"S_tot (sum)\",title=\"S compenents -45mV\")\n",
    "S_check = plot!(tL45[:,1],[S_s S_m],linestyle=:dash,label=[\"S_sys\" \"S_med\"])\n",
    "#S_check = plot!(tL45[:,1],S1,linestyle=:dash,label=\"S_tot (direct)\")\n",
    "S_check = plot!(tL45[1:end-1,1],ddt(H_t,dt),label=\"dH\")"
   ]
  },
  {
   "cell_type": "code",
   "execution_count": null,
   "id": "abb8af1c-076c-4421-b28f-a4a9324da933",
   "metadata": {},
   "outputs": [],
   "source": [
    "#critical points match between dH and S_sys\n",
    "print(\"minimums for S_sys, dH \\n\")\n",
    "print(findmin(S_s))\n",
    "print(\"\\n\")\n",
    "print(findmin(ddt(H_t,dt)))\n",
    "\n",
    "print(\"\\n\\n left zeros for S_sys,dH \\n\")\n",
    "print(findmin(abs.(S_s[1:findmin(S_s)[2]])))\n",
    "print(\"\\n\")\n",
    "print(findmin(abs.(ddt(H_t,dt)[1:findmin(S_s)[2]])))\n",
    "\n",
    "print(\"\\n\\n right zeros for S_sys,dH (index value is as shown +index of min )\\n\")\n",
    "print(findmin(abs.(S_s[708:5000])))\n",
    "print(\"\\n\")\n",
    "print(findmin(abs.(ddt(H_t,dt)[708:5000])))"
   ]
  },
  {
   "cell_type": "code",
   "execution_count": null,
   "id": "d5f0fce1-17ac-4c9e-b7d7-954d1c6388a9",
   "metadata": {},
   "outputs": [],
   "source": []
  }
 ],
 "metadata": {
  "kernelspec": {
   "display_name": "Julia 1.11.4",
   "language": "julia",
   "name": "julia-1.11"
  },
  "language_info": {
   "file_extension": ".jl",
   "mimetype": "application/julia",
   "name": "julia",
   "version": "1.11.4"
  }
 },
 "nbformat": 4,
 "nbformat_minor": 5
}
